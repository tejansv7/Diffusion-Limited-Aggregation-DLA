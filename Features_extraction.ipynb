{
 "cells": [
  {
   "cell_type": "code",
   "execution_count": 20,
   "metadata": {},
   "outputs": [],
   "source": [
    "import cv2\n",
    "import numpy as np\n",
    "from numpy import asarray\n",
    "from PIL import Image\n",
    "\n",
    "import matplotlib.pyplot as plt\n",
    "%matplotlib inline"
   ]
  },
  {
   "cell_type": "code",
   "execution_count": 25,
   "metadata": {},
   "outputs": [
    {
     "name": "stdout",
     "output_type": "stream",
     "text": [
      "count of non zero pixels: 444\n"
     ]
    }
   ],
   "source": [
    "img = Image.open('DLA_101_100_0.5.png').convert('L') #converts into a monochrome image\n",
    "arr = asarray(img)\n",
    "sobelxy = cv2.Sobel(src=arr, ddepth=cv2.CV_64F, dx=1, dy=1, ksize=5)\n",
    "p = np.count_nonzero(sobelxy != 0)\n",
    "\n",
    "#return p\n",
    "print('count of non zero pixels:', p)\n"
   ]
  },
  {
   "cell_type": "code",
   "execution_count": 26,
   "metadata": {},
   "outputs": [
    {
     "name": "stdout",
     "output_type": "stream",
     "text": [
      "array is of shape (101, 101)\n",
      "[ 30 215]\n",
      "count of 30 is : 101\n"
     ]
    }
   ],
   "source": [
    "#img = Image.open('DLA_101_1000_0.115.png').convert('L')\n",
    "img = Image.open('DLA_101_100_0.5.png').convert('L')\n",
    "arr = asarray(img)\n",
    "\n",
    "#img = cv2.imread('DLA_101_1000_0.1.png') \n",
    "#cv2.imshow('Original', img)\n",
    "#cv2.waitKey(0)\n",
    "\n",
    "shp = arr.shape\n",
    "print(\"array is of shape\", shp)\n",
    "\n",
    "print(np.unique(arr))\n",
    "\n",
    "N = np.count_nonzero(arr == 30)\n",
    "\n",
    "print('count of 30 is :', N)"
   ]
  },
  {
   "cell_type": "code",
   "execution_count": 27,
   "metadata": {},
   "outputs": [],
   "source": [
    "def neighbours(rows,columns,start_pt):\n",
    "\n",
    "    x1y1 = np.array([(0,-1),(0,1),(1,0),(-1,0),(1,1),(1,-1),(-1,1),(-1,-1)]) # possible steps in 8 directions\n",
    "    x2y2 = list(map(tuple,x1y1 + start_pt))\n",
    "    z = []\n",
    "    for i in range(len(x2y2)):\n",
    "        if( 0<= x2y2[i][0] <= columns-1 and 0<= x2y2[i][1] <= rows-1):\n",
    "            z.append((x2y2[i]))  #getting just the possible coordinates around a pixel\n",
    "        else:\n",
    "            continue\n",
    "    z = list(map(tuple,z))\n",
    "    \n",
    "    return z\n"
   ]
  },
  {
   "cell_type": "code",
   "execution_count": 28,
   "metadata": {},
   "outputs": [
    {
     "name": "stdout",
     "output_type": "stream",
     "text": [
      "Total number of zeros around each pixel of value 1 is:   554\n"
     ]
    }
   ],
   "source": [
    "# To find the number of zeros around a pixel\n",
    "zeros_around = 0\n",
    "\n",
    "for i in range(shp[0]-1):\n",
    "    for j in range(shp[0]-1):\n",
    "        if arr[i,j] == 30:\n",
    "            points_around =  neighbours(shp[0], shp[1], (i,j))\n",
    "            zeros = list(filter(lambda x : arr[x] == 215, points_around))\n",
    "            zeros_around+= len(zeros)\n",
    "    \n",
    "\n",
    "\n",
    "print(\"Total number of zeros around each pixel of value 1 is:  \", zeros_around)"
   ]
  },
  {
   "cell_type": "code",
   "execution_count": 6,
   "metadata": {},
   "outputs": [
    {
     "name": "stdout",
     "output_type": "stream",
     "text": [
      "(101, 101)\n"
     ]
    }
   ],
   "source": [
    "sobelxy = cv2.Sobel(src=arr, ddepth=cv2.CV_64F, dx=1, dy=1, ksize=5)\n",
    "#cv2.imshow('Sobel X Y using Sobel() function', sobelxy)\n",
    "np.unique(sobelxy)\n",
    "print(sobelxy.shape)"
   ]
  },
  {
   "cell_type": "code",
   "execution_count": 7,
   "metadata": {},
   "outputs": [
    {
     "data": {
      "text/plain": [
       "<matplotlib.image.AxesImage at 0x219d9a4cf40>"
      ]
     },
     "execution_count": 7,
     "metadata": {},
     "output_type": "execute_result"
    },
    {
     "data": {
      "image/png": "[encoded data removed]",
      "text/plain": [
       "<Figure size 432x288 with 1 Axes>"
      ]
     },
     "metadata": {
      "needs_background": "light"
     },
     "output_type": "display_data"
    }
   ],
   "source": [
    "plt.imshow(img,cmap='gray')\n"
   ]
  },
  {
   "cell_type": "code",
   "execution_count": null,
   "metadata": {},
   "outputs": [],
   "source": []
  },
  {
   "cell_type": "code",
   "execution_count": 8,
   "metadata": {},
   "outputs": [
    {
     "name": "stdout",
     "output_type": "stream",
     "text": [
      "count of non zero pixels: 485\n"
     ]
    },
    {
     "data": {
      "image/png": "[encoded data removed]",
      "text/plain": [
       "<Figure size 432x288 with 1 Axes>"
      ]
     },
     "metadata": {
      "needs_background": "light"
     },
     "output_type": "display_data"
    }
   ],
   "source": [
    "plt.imshow(sobelxy,cmap='gray')\n",
    "\n",
    "\n",
    "p = np.count_nonzero(sobelxy != 0)\n",
    "\n",
    "print('count of non zero pixels:', p)\n"
   ]
  },
  {
   "cell_type": "code",
   "execution_count": 44,
   "metadata": {},
   "outputs": [
    {
     "name": "stdout",
     "output_type": "stream",
     "text": [
      "8\n",
      "points_around [(1, 0), (1, 2), (2, 1), (0, 1), (2, 2), (2, 0), (0, 2), (0, 0)]\n",
      "[(1, 0), (1, 2), (2, 1), (0, 1), (2, 2), (2, 0), (0, 2), (0, 0)] zeroes\n"
     ]
    }
   ],
   "source": [
    "points_around =  neighbours(shp[0], shp[1], (1,1))\n",
    "zeros = list(filter(lambda x : arr[x] == 215, points_around))\n",
    "print(len(zeros))\n",
    "print('points_around', points_around )\n",
    "print(zeros,'zeroes')\n"
   ]
  },
  {
   "cell_type": "code",
   "execution_count": null,
   "metadata": {},
   "outputs": [],
   "source": []
  }
 ],
 "metadata": {
  "kernelspec": {
   "display_name": "Python 3",
   "language": "python",
   "name": "python3"
  },
  "language_info": {
   "codemirror_mode": {
    "name": "ipython",
    "version": 3
   },
   "file_extension": ".py",
   "mimetype": "text/x-python",
   "name": "python",
   "nbconvert_exporter": "python",
   "pygments_lexer": "ipython3",
   "version": "3.8.3"
  }
 },
 "nbformat": 4,
 "nbformat_minor": 4
}
